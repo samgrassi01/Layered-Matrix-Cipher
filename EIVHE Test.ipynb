{
 "cells": [
  {
   "cell_type": "markdown",
   "metadata": {},
   "source": [
    "## Building Efficient Integer Vector HE\n",
    "This is a test build.  The General equation is\n",
    "\n",
    "$$\n",
    "Sc = wx + e\n",
    "$$\n",
    "\n",
    "for encryption, and for decryption,\n",
    "\n",
    "$$\n",
    "x = \\lceil{\\frac{Sc}{w}}\\rfloor\n",
    "$$\n",
    "\n",
    "That is all pretty straight forward.  Below I will put the full code for the full system with key switching."
   ]
  },
  {
   "cell_type": "code",
   "execution_count": 12,
   "metadata": {},
   "outputs": [],
   "source": [
    "import numpy as np"
   ]
  },
  {
   "cell_type": "code",
   "execution_count": 13,
   "metadata": {},
   "outputs": [],
   "source": [
    "def generate_key(w,m,n):\n",
    "    S = (np.random.rand(m,n) * w / (2 ** 16)) # proving max(S) < w\n",
    "    return S\n",
    "\n",
    "def encrypt(x,S,m,n,w):\n",
    "    assert len(x) == len(S)\n",
    "    \n",
    "    e = (np.random.rand(m)) # proving max(e) < w / 2\n",
    "    c = np.linalg.inv(S).dot((w * x) + e)\n",
    "    return c\n",
    "\n",
    "def decrypt(c,S,w):\n",
    "    return (S.dot(c) / w).astype('int')\n",
    "\n",
    "def get_c_star(c,m,l):\n",
    "    c_star = np.zeros(l * m,dtype='int')\n",
    "    for i in range(m):\n",
    "        b = np.array(list(np.binary_repr(np.abs(c[i]))),dtype='int')\n",
    "        if(c[i] < 0):\n",
    "            b *= -1\n",
    "        c_star[(i * l) + (l-len(b)): (i+1) * l] += b\n",
    "    return c_star\n",
    "\n",
    "def switch_key(c,S,m,n,T):\n",
    "    l = int(np.ceil(np.log2(np.max(np.abs(c))))) # returns an integer\n",
    "    c_star = get_c_star(c,m,l)\n",
    "    S_star = get_S_star(S,m,n,l)\n",
    "    n_prime = n + 1\n",
    "    \n",
    "\n",
    "    S_prime = np.concatenate((np.eye(m),T.T),0).T\n",
    "    A = (np.random.rand(n_prime - m, n*l) * 10).astype('int')\n",
    "    E = (1 * np.random.rand(S_star.shape[0],S_star.shape[1])).astype('int')\n",
    "    M = np.concatenate(((S_star - T.dot(A) + E),A),0)\n",
    "    c_prime = M.dot(c_star)\n",
    "    return c_prime,S_prime\n",
    "\n",
    "def get_S_star(S,m,n,l):\n",
    "    S_star = list()\n",
    "    for i in range(l):\n",
    "        S_star.append(S*2**(l-i-1))\n",
    "    S_star = np.array(S_star).transpose(1,2,0).reshape(m,n*l)\n",
    "    return S_star\n",
    "\n",
    "def get_T(n):\n",
    "    n_prime = n + 1\n",
    "    T = (10 * np.random.rand(n,n_prime - n)).astype('int')\n",
    "    return T # is a vector of integers\n",
    "\n",
    "def encrypt_via_switch(x,w,m,n,T):\n",
    "    c,S = switch_key(x*w,np.eye(m),m,n,T)\n",
    "    return c,S\n",
    "\n",
    "x = np.array([0,1,2,5])\n",
    "\n",
    "m = len(x)\n",
    "n = m\n",
    "w = 16\n",
    "S = generate_key(w,m,n)"
   ]
  }
 ],
 "metadata": {
  "kernelspec": {
   "display_name": "Python [conda root]",
   "language": "python",
   "name": "conda-root-py"
  },
  "language_info": {
   "codemirror_mode": {
    "name": "ipython",
    "version": 3
   },
   "file_extension": ".py",
   "mimetype": "text/x-python",
   "name": "python",
   "nbconvert_exporter": "python",
   "pygments_lexer": "ipython3",
   "version": "3.6.3"
  }
 },
 "nbformat": 4,
 "nbformat_minor": 2
}
