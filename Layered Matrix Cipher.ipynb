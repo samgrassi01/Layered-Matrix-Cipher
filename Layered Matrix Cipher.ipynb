{
 "cells": [
  {
   "cell_type": "markdown",
   "metadata": {},
   "source": [
    "# An Improved Symetric Homomorphic Encryption Scheme\n",
    "\n",
    "In this notebook, a symetric homomorphic encryption system is introduced that uses a sequence of singular linear transforms to make known plaintext attacks impossible, and give a cipher text of a different, randomely chosen size to the plaintext."
   ]
  },
  {
   "cell_type": "code",
   "execution_count": 1,
   "metadata": {},
   "outputs": [],
   "source": [
    "import numpy as np"
   ]
  },
  {
   "cell_type": "code",
   "execution_count": 2,
   "metadata": {},
   "outputs": [
    {
     "data": {
      "text/plain": [
       "array([[ 5, 23, 24],\n",
       "       [ 7, 25,  5],\n",
       "       [18, 25, 20],\n",
       "       [22, 17, 29],\n",
       "       [28,  6,  9],\n",
       "       [12, 18, 24],\n",
       "       [21,  9,  1]])"
      ]
     },
     "execution_count": 2,
     "metadata": {},
     "output_type": "execute_result"
    }
   ],
   "source": [
    "message = np.array([9.0, 4.0, 2.0])\n",
    "key1 = np.random.randint(1, 30, ((len(message) + np.random.randint(2, 6)), len(message)))\n",
    "key1"
   ]
  },
  {
   "cell_type": "code",
   "execution_count": 3,
   "metadata": {},
   "outputs": [
    {
     "data": {
      "text/plain": [
       "array([[ 1.00000000e+00, -8.32667268e-17,  5.89805982e-17],\n",
       "       [ 1.38777878e-16,  1.00000000e+00,  1.63064007e-16],\n",
       "       [-5.55111512e-17, -2.77555756e-17,  1.00000000e+00]])"
      ]
     },
     "execution_count": 3,
     "metadata": {},
     "output_type": "execute_result"
    }
   ],
   "source": [
    "# know m is always > n\n",
    "key1inv = np.matmul((np.linalg.inv(np.matmul(key1.T, key1))), key1.T)\n",
    "np.matmul(key1inv, key1)"
   ]
  },
  {
   "cell_type": "code",
   "execution_count": 4,
   "metadata": {},
   "outputs": [
    {
     "data": {
      "text/plain": [
       "array([[23, 19,  3, 28, 27, 24, 14],\n",
       "       [ 5, 11, 16, 22,  6, 25, 29],\n",
       "       [16, 13,  6, 13, 28, 11, 20],\n",
       "       [29, 27, 24,  4, 13,  9,  5],\n",
       "       [ 4, 19, 11,  5, 26, 27, 14],\n",
       "       [26, 21, 16, 19, 27, 17, 11],\n",
       "       [17, 14,  4, 10, 11, 17, 14],\n",
       "       [29, 19,  5, 21, 19,  8, 12]])"
      ]
     },
     "execution_count": 4,
     "metadata": {},
     "output_type": "execute_result"
    }
   ],
   "source": [
    "key2 = np.random.randint(1, 30, ((np.random.randint(1, 4) + key1.shape[0]), key1.shape[0]))\n",
    "# check\n",
    "key2"
   ]
  },
  {
   "cell_type": "code",
   "execution_count": 5,
   "metadata": {},
   "outputs": [
    {
     "data": {
      "text/plain": [
       "array([[ 1.00000000e+00, -1.08801856e-14, -6.71684930e-15,\n",
       "        -1.42108547e-14, -2.62012634e-14, -2.44249065e-14,\n",
       "        -1.77635684e-14],\n",
       "       [ 2.66453526e-14,  1.00000000e+00,  1.34336986e-14,\n",
       "         3.46389584e-14,  5.24025268e-14,  4.39648318e-14,\n",
       "         3.28626015e-14],\n",
       "       [-1.50990331e-14, -1.39888101e-14,  1.00000000e+00,\n",
       "        -1.19904087e-14, -1.97619698e-14, -1.36002321e-14,\n",
       "        -1.05471187e-14],\n",
       "       [ 7.54951657e-15,  5.99520433e-15,  4.02455846e-15,\n",
       "         1.00000000e+00,  1.07691633e-14,  8.32667268e-15,\n",
       "         6.43929354e-15],\n",
       "       [-1.38777878e-15, -1.58206781e-15,  1.94289029e-16,\n",
       "        -2.16493490e-15,  1.00000000e+00, -1.94289029e-15,\n",
       "        -1.58206781e-15],\n",
       "       [-2.19824159e-14, -1.80966353e-14, -1.22124533e-14,\n",
       "        -1.56541446e-14, -2.62012634e-14,  1.00000000e+00,\n",
       "        -1.47659662e-14],\n",
       "       [ 7.77156117e-16,  9.43689571e-16,  4.44089210e-16,\n",
       "         1.30451205e-15,  3.10862447e-15,  1.66533454e-15,\n",
       "         1.00000000e+00]])"
      ]
     },
     "execution_count": 5,
     "metadata": {},
     "output_type": "execute_result"
    }
   ],
   "source": [
    "# know always m>n check to see if produces I\n",
    "key2inv = np.matmul((np.linalg.inv(np.matmul(key2.T, key2))), key2.T)\n",
    "np.matmul(key2inv, key2)"
   ]
  },
  {
   "cell_type": "code",
   "execution_count": 6,
   "metadata": {},
   "outputs": [
    {
     "name": "stdout",
     "output_type": "stream",
     "text": [
      "The ciphertext is:  [16387574.02140881 13853797.6740994  12738439.50726764 12295375.49072172\n",
      " 12466645.47017003 16211779.97928754  9755359.19007522 13020883.59932926]\n"
     ]
    }
   ],
   "source": [
    "# check!\n",
    "def encrypt(message, key1, key2):\n",
    "    # scale up plaintext by a whole bunch to avoid noise damage and add random noise vector\n",
    "    message += (np.random.rand(len(message)) / 2**20)\n",
    "    message *= 40\n",
    "    \n",
    "    ciphertext = np.matmul(key1, message)\n",
    "    ciphertext = (2 * ciphertext) + 19\n",
    "    ciphertext = np.matmul(key2, ciphertext)\n",
    "    return ciphertext\n",
    "\n",
    "ciphertext = encrypt(message, key1, key2)\n",
    "ciphertext *= 6\n",
    "print(\"The ciphertext is: \", ciphertext)"
   ]
  },
  {
   "cell_type": "code",
   "execution_count": 7,
   "metadata": {},
   "outputs": [],
   "source": [
    "# define a rounding function for use in making sure everything ends up ok\n",
    "def myround(a, decimals=0):\n",
    "     return np.around(a-10**(-(decimals+5)), decimals=decimals)\n",
    "    \n",
    "# make decryption function, just inverse order of encryption function\n",
    "def decrypt(ciphertext, key1, key2):\n",
    "    key1inv = np.matmul((np.linalg.inv(np.matmul(key1.T, key1))), key1.T)\n",
    "    key2inv = np.matmul((np.linalg.inv(np.matmul(key2.T, key2))), key2.T)\n",
    "    \n",
    "    plaintext = np.matmul(ciphertext, key2inv.T)\n",
    "    plaintext = (0.5 * plaintext) - 19\n",
    "    plaintext = np.matmul(plaintext, key1inv.T)\n",
    "    plaintext *= (1/40)\n",
    "    return plaintext"
   ]
  },
  {
   "cell_type": "code",
   "execution_count": 9,
   "metadata": {},
   "outputs": [
    {
     "name": "stdout",
     "output_type": "stream",
     "text": [
      "The plaintext is \n",
      " [54. 24. 12.]  \n",
      "After has been scaled up by 6 in ciphertext step\n"
     ]
    }
   ],
   "source": [
    "# now make sure everything turns out ok\n",
    "plaintext = decrypt(ciphertext, key1, key2)\n",
    "plaintext = myround(plaintext)\n",
    "print(\"The plaintext is \\n\", plaintext, \" \\nAfter has been scaled up by 6 in ciphertext step\")"
   ]
  },
  {
   "cell_type": "markdown",
   "metadata": {},
   "source": [
    "### Results\n",
    "have the outlines functions live above, and the tests live below.\n",
    "\n",
    "Note how the plaintext needs to be scaled up and down before and after the operations as to avoid damage from the noise."
   ]
  },
  {
   "cell_type": "code",
   "execution_count": null,
   "metadata": {},
   "outputs": [],
   "source": []
  },
  {
   "cell_type": "markdown",
   "metadata": {},
   "source": [
    "## Bibliography\n",
    "* Efficient Integer Vector Homomorphic Encryption Paper\n",
    "* Some other Papers"
   ]
  }
 ],
 "metadata": {
  "kernelspec": {
   "display_name": "Python [conda root]",
   "language": "python",
   "name": "conda-root-py"
  },
  "language_info": {
   "codemirror_mode": {
    "name": "ipython",
    "version": 3
   },
   "file_extension": ".py",
   "mimetype": "text/x-python",
   "name": "python",
   "nbconvert_exporter": "python",
   "pygments_lexer": "ipython3",
   "version": "3.6.5"
  }
 },
 "nbformat": 4,
 "nbformat_minor": 2
}
