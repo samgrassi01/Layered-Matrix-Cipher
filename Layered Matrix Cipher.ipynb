{
 "cells": [
  {
   "cell_type": "markdown",
   "metadata": {},
   "source": [
    "# An Improved Symmetric Homomorphic Encryption Scheme\n",
    "\n",
    "In this notebook, a somewhat homomorphic encryption scheme is introduced that employs rectangular matrices and nonlinear transformations to improve the security of the conventional Efficient Integer Vector Homomorphic Encryption scheme.\n",
    "\n",
    "## Introduction\n",
    "Homomorphic encryption differs from conventional symmetric or asymmetric encryption schemes such as AES or RSA, in that it allows for computation in the encrypted domain.  Conventionally, after encrypting data with AES encryption for example, there is nothing that can be done with the data aside from storing it in encrypted form or sending it to another party.  If the encrypted data (ciphertext) was to be operated on in some capacity, such as through multiplication, the ciphertext would not decrypt correctly.  Conversely, if the plaintext data was to be encrypted homomorphically, the ciphertext could be operated on and subsequently decrypted correctly.\n",
    "\n",
    "For example, suppose the number 6 was sensitive information that Alice could not reveal to Bob, however Bob was the only party available that could perform the necessary computations on Alice's information.  Alice could cirvumvent this issue with homomorphic encryption.  She could encrypt 6 with a homomorphic encryption scheme, and send it to Bob.  Bob would then perform an operation on it, say multiplying it by 13 without having to know the contents of the ciphertext.  When alice receives the operated ciphertext from Bob, she will decrypt it to find her original data, 6, was converted into the number 78, the product of 6 and 13.\n",
    "\n",
    "#### Practical Example of Homomorphic Encryption\n",
    "Homomorphic encryption has many exciting applications in the practical domain.  One example is that of encrypted machine learning.  Assume Google has developed a novel recurrent neural network they want to use for word prediction in Android users keyboards.  Google could take the Android users data, storing it on a centralized server to train the model there.  This option would be fast, however it has the massive drawback of pulling the users data plaintext into a centralized location, not the best option in terms of user privacy and security.  Google would also have the option of using the technique of federated learning, to send the neural network to each user individually, training the network locally on each users device, and then pulling these \"child networks\" together, synthesising their gradients to produce the parent network that would result in the final product.  Unfortunately, this particular recurrent neural network is sensitive intellectual property, and Google couldn't risk revealing this network to the competition.  \n",
    "\n",
    "Google can fix this problem with homomorphic encryption.  Google could encrypt the neural network homomorphically, sending the encrypted model down to each Android users device.  Because this model is encrypted homomorphically, it could be trained securely, locally on each device, and when finished training, could be sent back to Google to be decrypted and finished.  \n",
    "\n",
    "## Homomorphic Encryption Scheme\n",
    "Following is a préci of the mathematics of homomorphic encryption, specifically as it applies to the scheme posited in this notebook.  The basic homomorphic encryption scheme as posited in the paper Efficient Homomorphic Encryption on Integer Vectors and Its Applications, by Zhou et al [1] is as follows.  \n",
    "\n",
    "Given a plaintext vector $\\mathbf{x} \\in \\mathbb{Z}^n$, and a nonsingular secret key $S \\in \\mathbb{Z}^{nxn}$, $\\mathbf{c} \\in \\mathbb{Z}^n$ is a vector that satisfies \n",
    "\n",
    "$$\n",
    "S \\mathbf{c} = w \\mathbf{x} + \\mathbf{e}\n",
    "$$\n",
    "\n",
    "where $w$ is a large integer and $\\mathbf{e}$ is a noise vector.  The scalar value $w$ is used to scale up the plaintext vector $\\mathbf{x}$ before encryption to prevent the plaintext from succumbing to noise during operations in the ciphertext domain.  The vector $\\mathbf{e}$ is a noise vector used to make adversarial attacks on the ciphertext more difficult.  The decryption scheme is as follows.\n",
    "\n",
    "$$\n",
    "\\mathbf{x} = \\lceil \\frac{S \\mathbf{c}}{w} \\rfloor\n",
    "$$\n",
    "\n",
    "Note how the $\\mathbf{e}$ vector is not needed in decryption as it as shrugged off as rounding error.  The flaws of this homomorphic encryption scheme are apparent.  First, because the secret key $S$ is nonsingular, the plaintext and ciphertext are of the same dimension, allowing for leaks to be taken advantage of in its cryptanalysis.  Secondly, given a set of plaintext/ciphertext pairs, $S$ can be solved for in a plaintext attack as shown in the paper Cryptanalysis of a Homomorphic Encryption Scheme, by Bogos et al [2].  \n",
    "\n",
    "In the rest of the notebook, a somewhat homomorphic encryption scheme is proposed that addresses the two problems outlined above.  Problem one, the domain and codomain of the encryption scheme being of the same dimension, is solved through the use of singular $m \\times n$ matrices where $m >= n$.  The inverse of these matrices for decryption purposes can be found with the left inverse as follows\n",
    "\n",
    "$$\n",
    "A^{-1}_{\\text{left}} = (A^T A)^{-1} A^T\n",
    "$$\n",
    "\n",
    "Problem two - the standard scheme's susceptibility to known plaintext attacks - is solved by passing the plaintext through a sequence of linear and nonlinear transformations.  The plaintext is first passed through a linear transformation, followed by a nonlinear transformation, followed by one more linear transformation to result in the ciphertext.  Unfortunately this sequence of operations is complex and slow, however it does prevent any form of plaintext attack on the cipher.  The nonlinear transformation was put between the two linear transformations to prevent the \"collapsing\" of the product of two linear transformations given by\n",
    "\n",
    "$$\n",
    "B(A\\mathbf{x}) = C\\mathbf{x}\n",
    "$$\n",
    "\n",
    "however \n",
    "\n",
    "$$\n",
    "B(f(A\\mathbf{x})) \\ne C\\mathbf{x}\n",
    "$$\n",
    "\n",
    "where $f$ is some nonlinear transformation, $A$, $B$, $C$ are linear transformations.  The addition of this nonlinear transformation allows for the \"layering\" of encryption matrices, preventing known plaintext attacks.\n",
    "\n",
    "## The Scheme\n",
    "Below, the improved cipher is implemented and tested in code.  See the comments in each code block for line to line details.  \n",
    "\n",
    "Begin by importing libraries, setting up keys and defining functions."
   ]
  },
  {
   "cell_type": "code",
   "execution_count": 1,
   "metadata": {},
   "outputs": [],
   "source": [
    "import numpy as np\n",
    "\n",
    "# Define the plaintext message that will be encrypted and operated on in the encrypted domain.\n",
    "# For the purpose of this example, the elements of the message vector are simply random integers\n",
    "message = np.array([9.0, 4.0, 2.0, 6.0, 8.0, 15.0, 0.0, 1.0])\n",
    "\n",
    "key1 = np.random.randint(1, 30, ((len(message) + np.random.randint(0, 10)), len(message)))\n",
    "key2 = np.random.randint(1, 30, ((np.random.randint(0, 4) + key1.shape[0]), key1.shape[0]))"
   ]
  },
  {
   "cell_type": "code",
   "execution_count": 2,
   "metadata": {},
   "outputs": [],
   "source": [
    "def encrypt(message, key1, key2):\n",
    "    # scale up plaintext to avoid noise damage\n",
    "    message *= 30\n",
    "    \n",
    "    ciphertext = np.matmul(key1, message)\n",
    "    # pass through nonlinear function\n",
    "    ciphertext = (2 * ciphertext) + 27\n",
    "    ciphertext = np.matmul(key2, ciphertext)\n",
    "    # add noise vector to ciphertext\n",
    "    e = np.random.rand(len(ciphertext))\n",
    "    ciphertext += e\n",
    "    return ciphertext"
   ]
  },
  {
   "cell_type": "code",
   "execution_count": 3,
   "metadata": {},
   "outputs": [],
   "source": [
    "# define a rounding function for use in decryption\n",
    "def myround(a, decimals=0):\n",
    "     return np.around(a-10**(-(decimals+5)), decimals=decimals)\n",
    "    \n",
    "# make decryption function, just inverse order of encryption function\n",
    "def decrypt(ciphertext, key1, key2):\n",
    "    key1inv = np.matmul((np.linalg.inv(np.matmul(key1.T, key1))), key1.T)\n",
    "    key2inv = np.matmul((np.linalg.inv(np.matmul(key2.T, key2))), key2.T)\n",
    "    \n",
    "    plaintext = np.matmul(ciphertext, key2inv.T)\n",
    "    plaintext = (0.5 * plaintext) - 27\n",
    "    plaintext = np.matmul(plaintext, key1inv.T)\n",
    "    plaintext *= (1/30)\n",
    "    return plaintext"
   ]
  },
  {
   "cell_type": "markdown",
   "metadata": {},
   "source": [
    "## Testing\n",
    "Below tests will be run with the encryption scheme.  We will start by just encrypting and decrypting the plaintext to make sure everything is working ok."
   ]
  },
  {
   "cell_type": "code",
   "execution_count": 4,
   "metadata": {},
   "outputs": [
    {
     "name": "stdout",
     "output_type": "stream",
     "text": [
      "\n",
      "The ciphertext is: \n",
      "\n",
      " [ 8065776.37901563  6971373.12455944  8000337.4221898  11759196.21713414\n",
      "  8738235.54520541  8533350.49301692  9662310.90620535  9994458.67838264\n",
      "  9569445.0742469   6911832.22418048 11052939.75866383  8991348.47538428\n",
      "  8042388.92311405  8258706.02981726]\n",
      "\n",
      "\n",
      "The plaintext is \n",
      "\n",
      " [ 9.  4.  2.  6.  8. 15.  0.  1.]\n"
     ]
    }
   ],
   "source": [
    "# encrypt\n",
    "ciphertext = encrypt(message, key1, key2)\n",
    "print(\"\\nThe ciphertext is: \\n\\n\", ciphertext)\n",
    "\n",
    "# decrypt\n",
    "plaintext = decrypt(ciphertext, key1, key2)\n",
    "plaintext = myround(plaintext)\n",
    "print(\"\\n\\nThe plaintext is \\n\\n\", plaintext)"
   ]
  },
  {
   "cell_type": "markdown",
   "metadata": {},
   "source": [
    "Now that we know the encryption scheme is working, operations can be performed on the ciphertext to take advantage of homomorphic encryption.  "
   ]
  },
  {
   "cell_type": "code",
   "execution_count": 5,
   "metadata": {},
   "outputs": [
    {
     "name": "stdout",
     "output_type": "stream",
     "text": [
      "The ciphertext is: \n",
      "\n",
      " [4.47556970e+08 4.50891275e+08 4.06558040e+08 4.05087287e+08\n",
      " 4.86730115e+08 4.27173496e+08 3.71711195e+08 3.94005282e+08\n",
      " 3.47902358e+08 4.96269186e+08 3.65078156e+08 3.96654652e+08\n",
      " 5.25306072e+08 3.27098012e+08 3.92194345e+08 2.96013966e+08\n",
      " 4.18713874e+08 3.85864892e+08 3.82426713e+08]\n",
      "\n",
      "\n",
      "The plaintext is \n",
      "\n",
      " [324. 144.  72. 216. 288. 540.   0.  36.]\n"
     ]
    }
   ],
   "source": [
    "# redefine arguments\n",
    "message = np.array([9.0, 4.0, 2.0, 6.0, 8.0, 15.0, 0.0, 1.0])\n",
    "\n",
    "key1 = np.random.randint(1, 30, ((len(message) + np.random.randint(0, 10)), len(message)))\n",
    "key2 = np.random.randint(1, 30, ((np.random.randint(0, 4) + key1.shape[0]), key1.shape[0]))\n",
    "\n",
    "# encrypt\n",
    "ciphertext2= encrypt(message, key1, key2)\n",
    "\n",
    "# operate on ciphertext\n",
    "ciphertext2 *= 6\n",
    "ciphertext2 = ciphertext2 + ciphertext2\n",
    "ciphertext2 *= 3\n",
    "\n",
    "print(\"The ciphertext is: \\n\\n\", ciphertext2)\n",
    "\n",
    "# now decrypt\n",
    "plaintext2 = decrypt(ciphertext2, key1, key2)\n",
    "plaintext2 = myround(plaintext2)\n",
    "\n",
    "print(\"\\n\\nThe plaintext is \\n\\n\", plaintext2)"
   ]
  },
  {
   "cell_type": "markdown",
   "metadata": {},
   "source": [
    "## Results\n",
    "As demonstrated in the program above, the improved homomorphic encryption scheme works beautifully.  The ciphertext is of a size larger than the plaintext, and operations can be performed on the ciphertext, and the ciphertext will decrypt properly.  \n",
    "\n",
    "In the example above, the ciphertext was first multiplied by 6, added to itself, multiplied by 3, and it decrypted to the correct value for each element of the plaintext (from 9 to 324, 4 to 144 etc.).  \n",
    "\n",
    "Unfortunately, furthur tests with the current cipher show it cannot yet earn the title of being a \"fully homomorphic encryption scheme\".  This is because, as more and more operations are stacked ontop of eachother, the noise corrupts enough of the signal to output incorrect decrypted plaintext, so the scheme currently falls under the category of being a \"somewhat homomorphic encryption scheme\".\n",
    "\n",
    "## Improvements\n",
    "This cipher is still in its infancy, and has much room for improvement.  In the following list, I propose some potential upgrades for the cipher.\n",
    "* One major improvement would be allowing for the generation of a public/private key pairs and key-switching as is implemented in the referenced papers.\n",
    "* This cipher does not currently allow for an arbitrary number of operations to be performed on the ciphertext while still maintaining its correctness.  Too many addition/multiplication operations on the ciphertext causes noise buildup, resulting in incorrect decrypted plaintext.  There are many fully homomorphic encryption schemes from which improvements to the cipher could be based on.\n",
    "* The presented scheme is quite slow.  For encrypting large datasets this could almost range on the side of being impractically slow in certain situations.  The proposed scheme does allow for optimization in many areas however.  \n",
    "\n",
    "## Bibliography\n",
    "1. [Efficient Homomorphic Encryption on Integer Vectors and Its Applications](http://allegro.mit.edu/pubs/posted/conference/2014-zhou-wornell-ita.pdf), Zhou et al\n",
    "2. [Cryptanalysis of a Homomorphic Encryption Scheme](https://eprint.iacr.org/2016/775.pdf), Bogos et al\n",
    "3. [Efficient Integer Vector Homomorphic Encryption](http://courses.csail.mit.edu/6.857/2015/files/yu-lai-payor.pdf), Yu et al"
   ]
  }
 ],
 "metadata": {
  "kernelspec": {
   "display_name": "Python [conda root]",
   "language": "python",
   "name": "conda-root-py"
  },
  "language_info": {
   "codemirror_mode": {
    "name": "ipython",
    "version": 3
   },
   "file_extension": ".py",
   "mimetype": "text/x-python",
   "name": "python",
   "nbconvert_exporter": "python",
   "pygments_lexer": "ipython3",
   "version": "3.6.6"
  }
 },
 "nbformat": 4,
 "nbformat_minor": 2
}
