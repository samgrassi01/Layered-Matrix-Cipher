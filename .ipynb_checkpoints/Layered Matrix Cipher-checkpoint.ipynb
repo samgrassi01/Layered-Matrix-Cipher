{
 "cells": [
  {
   "cell_type": "markdown",
   "metadata": {},
   "source": [
    "# An Improved Symetric Homomorphic Encryption Scheme\n",
    "\n",
    "In this notebook, a symetric homomorphic encryption system is introduced that uses a sequence of singular linear transforms to make known plaintext attacks impossible, and give a cipher text of a different, randomely chosen size to the plaintext."
   ]
  },
  {
   "cell_type": "code",
   "execution_count": null,
   "metadata": {},
   "outputs": [],
   "source": []
  },
  {
   "cell_type": "markdown",
   "metadata": {},
   "source": [
    "## Bibliography\n",
    "* Efficient Integer Vector Homomorphic Encryption Paper\n",
    "* Some other Papers"
   ]
  }
 ],
 "metadata": {
  "kernelspec": {
   "display_name": "Python [conda root]",
   "language": "python",
   "name": "conda-root-py"
  },
  "language_info": {
   "codemirror_mode": {
    "name": "ipython",
    "version": 3
   },
   "file_extension": ".py",
   "mimetype": "text/x-python",
   "name": "python",
   "nbconvert_exporter": "python",
   "pygments_lexer": "ipython3",
   "version": "3.6.5"
  }
 },
 "nbformat": 4,
 "nbformat_minor": 2
}
