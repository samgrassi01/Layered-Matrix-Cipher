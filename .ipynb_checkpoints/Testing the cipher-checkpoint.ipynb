{
 "cells": [
  {
   "cell_type": "markdown",
   "metadata": {},
   "source": [
    "Note how numpy matrices are written by columns, sympy by rows.  This is Fully Homomorphic as it is in a ring."
   ]
  },
  {
   "cell_type": "code",
   "execution_count": 1,
   "metadata": {},
   "outputs": [],
   "source": [
    "import numpy as np\n",
    "\n",
    "from sympy import *\n",
    "init_printing(use_unicode=True)"
   ]
  },
  {
   "cell_type": "code",
   "execution_count": 2,
   "metadata": {},
   "outputs": [
    {
     "data": {
      "text/plain": [
       "array([ 65, 179,  69])"
      ]
     },
     "execution_count": 2,
     "metadata": {},
     "output_type": "execute_result"
    }
   ],
   "source": [
    "v = np.array([4, 53])\n",
    "A = np.array([[3, 5, 4], [1, 3, 1]])\n",
    "np.matmul(v, A)"
   ]
  },
  {
   "cell_type": "code",
   "execution_count": 3,
   "metadata": {
    "scrolled": true
   },
   "outputs": [
    {
     "data": {
      "text/latex": [
       "$$\\left[\\begin{matrix}65\\\\179\\\\69\\end{matrix}\\right]$$"
      ],
      "text/plain": [
       "⎡65 ⎤\n",
       "⎢   ⎥\n",
       "⎢179⎥\n",
       "⎢   ⎥\n",
       "⎣69 ⎦"
      ]
     },
     "execution_count": 3,
     "metadata": {},
     "output_type": "execute_result"
    }
   ],
   "source": [
    "v = Matrix([4, 53])\n",
    "A = Matrix([[3, 1], [5, 3], [4, 1]])\n",
    "A*v"
   ]
  },
  {
   "cell_type": "markdown",
   "metadata": {},
   "source": [
    "# Nonlinear Transformation Testing\n",
    "I will see how you can represent y=mx+b stylce function with a diagonal matrix, and from there will build out the function that does everything.  This should work given there won't be any square or square roots.  "
   ]
  },
  {
   "cell_type": "code",
   "execution_count": 1,
   "metadata": {},
   "outputs": [],
   "source": [
    "import numpy as np"
   ]
  },
  {
   "cell_type": "code",
   "execution_count": 6,
   "metadata": {},
   "outputs": [
    {
     "data": {
      "text/plain": [
       "array([18, 27,  9])"
      ]
     },
     "execution_count": 6,
     "metadata": {},
     "output_type": "execute_result"
    }
   ],
   "source": [
    "vec = np.array([4, 7, 1])\n",
    "(3*vec) + 6"
   ]
  },
  {
   "cell_type": "code",
   "execution_count": 5,
   "metadata": {},
   "outputs": [
    {
     "data": {
      "text/plain": [
       "array([6, 6, 6])"
      ]
     },
     "execution_count": 5,
     "metadata": {},
     "output_type": "execute_result"
    }
   ],
   "source": [
    "# zero vector test\n",
    "zero = np.array([0, 0, 0])\n",
    "(3*zero) + 6"
   ]
  },
  {
   "cell_type": "markdown",
   "metadata": {},
   "source": [
    "As you can see, the above function is not a linear transformation as T(0) does not equal 0.\n",
    "\n",
    "Below I will try to build out the system again with this nonlinear transformation and see if it works"
   ]
  },
  {
   "cell_type": "code",
   "execution_count": 31,
   "metadata": {},
   "outputs": [
    {
     "data": {
      "text/plain": [
       "array([[13,  6,  4],\n",
       "       [17, 18, 14],\n",
       "       [ 2, 23,  8],\n",
       "       [17, 20, 22],\n",
       "       [ 1, 10,  5]])"
      ]
     },
     "execution_count": 31,
     "metadata": {},
     "output_type": "execute_result"
    }
   ],
   "source": [
    "message = np.array([9.0, 4.0, 2.0])\n",
    "key1 = np.random.randint(1, 30, ((len(message) + np.random.randint(2, 6)), len(message)))\n",
    "key1"
   ]
  },
  {
   "cell_type": "code",
   "execution_count": 32,
   "metadata": {},
   "outputs": [
    {
     "data": {
      "text/plain": [
       "array([[  1.00000000e+00,   2.60902411e-15,   1.91513472e-15],\n",
       "       [  6.93889390e-18,   1.00000000e+00,  -2.49800181e-16],\n",
       "       [ -8.60422844e-16,  -1.05471187e-15,   1.00000000e+00]])"
      ]
     },
     "execution_count": 32,
     "metadata": {},
     "output_type": "execute_result"
    }
   ],
   "source": [
    "# know m is always > n\n",
    "key1inv = np.matmul((np.linalg.inv(np.matmul(key1.T, key1))), key1.T)\n",
    "np.matmul(key1inv, key1)"
   ]
  },
  {
   "cell_type": "code",
   "execution_count": 33,
   "metadata": {},
   "outputs": [
    {
     "data": {
      "text/plain": [
       "5"
      ]
     },
     "execution_count": 33,
     "metadata": {},
     "output_type": "execute_result"
    }
   ],
   "source": [
    "key1.shape[0]"
   ]
  },
  {
   "cell_type": "code",
   "execution_count": 34,
   "metadata": {},
   "outputs": [
    {
     "data": {
      "text/plain": [
       "array([[ 6,  2,  3,  6,  2],\n",
       "       [ 7,  3, 19,  5, 21],\n",
       "       [ 5, 21, 12, 14, 12],\n",
       "       [27,  1, 26, 24,  4],\n",
       "       [25, 10, 26,  8, 26],\n",
       "       [18, 17, 23, 11, 25],\n",
       "       [ 9,  2, 28,  2,  3]])"
      ]
     },
     "execution_count": 34,
     "metadata": {},
     "output_type": "execute_result"
    }
   ],
   "source": [
    "key2 = np.random.randint(1, 30, ((np.random.randint(1, 4) + key1.shape[0]), key1.shape[0]))\n",
    "# check\n",
    "key2"
   ]
  },
  {
   "cell_type": "code",
   "execution_count": 35,
   "metadata": {},
   "outputs": [
    {
     "data": {
      "text/plain": [
       "array([[  1.00000000e+00,  -1.66533454e-16,  -1.66533454e-16,\n",
       "          6.66133815e-16,   1.26287869e-15],\n",
       "       [ -1.55431223e-15,   1.00000000e+00,  -1.72084569e-15,\n",
       "         -7.21644966e-16,  -4.57966998e-16],\n",
       "       [ -1.11022302e-16,   1.11022302e-16,   1.00000000e+00,\n",
       "          8.32667268e-17,   1.38777878e-16],\n",
       "       [  4.99600361e-16,   4.16333634e-16,   1.55431223e-15,\n",
       "          1.00000000e+00,   3.74700271e-16],\n",
       "       [  8.88178420e-16,   3.19189120e-16,   8.88178420e-16,\n",
       "          1.66533454e-16,   1.00000000e+00]])"
      ]
     },
     "execution_count": 35,
     "metadata": {},
     "output_type": "execute_result"
    }
   ],
   "source": [
    "# know always m>n\n",
    "key2inv = np.matmul((np.linalg.inv(np.matmul(key2.T, key2))), key2.T)\n",
    "np.matmul(key2inv, key2)"
   ]
  },
  {
   "cell_type": "code",
   "execution_count": 36,
   "metadata": {},
   "outputs": [
    {
     "data": {
      "text/plain": [
       "array([ 1710006.18364212,  3279870.35893463,  5842176.6334441 ,\n",
       "        6938628.74661954,  6385710.68238504,  6924156.74477113,\n",
       "        2935896.31650577])"
      ]
     },
     "execution_count": 36,
     "metadata": {},
     "output_type": "execute_result"
    }
   ],
   "source": [
    "# check!\n",
    "def encrypt(message, key1, key2):\n",
    "    # scale up plaintext by a whole bunch to avoid noise damage and add random noise vector\n",
    "    message += (np.random.rand(len(message)) / 2**20)\n",
    "    message *= 40\n",
    "    \n",
    "    ciphertext = np.matmul(key1, message)\n",
    "    ciphertext = (2 * ciphertext) + 19\n",
    "    ciphertext = np.matmul(key2, ciphertext)\n",
    "    return ciphertext\n",
    "\n",
    "ciphertext = encrypt(message, key1, key2)\n",
    "ciphertext *= 6\n",
    "ciphertext"
   ]
  },
  {
   "cell_type": "code",
   "execution_count": 37,
   "metadata": {},
   "outputs": [],
   "source": [
    "def myround(a, decimals=0):\n",
    "     return np.around(a-10**(-(decimals+5)), decimals=decimals)\n",
    "    \n",
    "def decrypt(ciphertext, key1, key2):\n",
    "    key1inv = np.matmul((np.linalg.inv(np.matmul(key1.T, key1))), key1.T)\n",
    "    key2inv = np.matmul((np.linalg.inv(np.matmul(key2.T, key2))), key2.T)\n",
    "    \n",
    "    plaintext = np.matmul(ciphertext, key2inv.T)\n",
    "    plaintext = (0.5 * plaintext) - 19\n",
    "    plaintext = np.matmul(plaintext, key1inv.T)\n",
    "    plaintext *= (1/40)\n",
    "    return plaintext"
   ]
  },
  {
   "cell_type": "code",
   "execution_count": 38,
   "metadata": {},
   "outputs": [
    {
     "data": {
      "text/plain": [
       "array([ 54.,  24.,  12.])"
      ]
     },
     "execution_count": 38,
     "metadata": {},
     "output_type": "execute_result"
    }
   ],
   "source": [
    "plaintext = decrypt(ciphertext, key1, key2)\n",
    "plaintext = myround(plaintext)\n",
    "plaintext"
   ]
  },
  {
   "cell_type": "markdown",
   "metadata": {},
   "source": [
    "### It works!!!\n",
    "As you can see, the original message is 9, 4, 2, and it works with homomorphic stuff! sweet! the ciphertext is also much longer and of a different size.  This is awesome!\n",
    "\n",
    "**NOTE** how need to scale message when pass through encrypt to avoid noise damage!!!  Also need random noise vector to be of a smaller size"
   ]
  },
  {
   "cell_type": "code",
   "execution_count": null,
   "metadata": {},
   "outputs": [],
   "source": []
  },
  {
   "cell_type": "code",
   "execution_count": null,
   "metadata": {},
   "outputs": [],
   "source": []
  },
  {
   "cell_type": "code",
   "execution_count": null,
   "metadata": {},
   "outputs": [],
   "source": []
  },
  {
   "cell_type": "code",
   "execution_count": null,
   "metadata": {},
   "outputs": [],
   "source": []
  },
  {
   "cell_type": "code",
   "execution_count": null,
   "metadata": {},
   "outputs": [],
   "source": []
  },
  {
   "cell_type": "code",
   "execution_count": null,
   "metadata": {},
   "outputs": [],
   "source": []
  },
  {
   "cell_type": "code",
   "execution_count": null,
   "metadata": {},
   "outputs": [],
   "source": []
  },
  {
   "cell_type": "code",
   "execution_count": null,
   "metadata": {},
   "outputs": [],
   "source": []
  },
  {
   "cell_type": "code",
   "execution_count": null,
   "metadata": {},
   "outputs": [],
   "source": []
  }
 ],
 "metadata": {
  "kernelspec": {
   "display_name": "Python [conda root]",
   "language": "python",
   "name": "conda-root-py"
  },
  "language_info": {
   "codemirror_mode": {
    "name": "ipython",
    "version": 3
   },
   "file_extension": ".py",
   "mimetype": "text/x-python",
   "name": "python",
   "nbconvert_exporter": "python",
   "pygments_lexer": "ipython3",
   "version": "3.6.3"
  }
 },
 "nbformat": 4,
 "nbformat_minor": 2
}
