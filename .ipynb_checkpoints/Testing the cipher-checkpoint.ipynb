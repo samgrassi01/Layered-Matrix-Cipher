{
 "cells": [
  {
   "cell_type": "markdown",
   "metadata": {},
   "source": [
    "Note how numpy matrices are written by columns, sympy by rows"
   ]
  },
  {
   "cell_type": "code",
   "execution_count": 2,
   "metadata": {},
   "outputs": [],
   "source": [
    "import numpy as np\n",
    "\n",
    "from sympy import *\n",
    "init_printing(use_unicode=True)"
   ]
  },
  {
   "cell_type": "code",
   "execution_count": 5,
   "metadata": {},
   "outputs": [
    {
     "data": {
      "text/plain": [
       "array([ 65, 179,  69])"
      ]
     },
     "execution_count": 5,
     "metadata": {},
     "output_type": "execute_result"
    }
   ],
   "source": [
    "v = np.array([4, 53])\n",
    "A = np.array([[3, 5, 4], [1, 3, 1]])\n",
    "np.matmul(v, A)"
   ]
  },
  {
   "cell_type": "code",
   "execution_count": 8,
   "metadata": {},
   "outputs": [
    {
     "data": {
      "text/latex": [
       "$$\\left[\\begin{matrix}65\\\\179\\\\69\\end{matrix}\\right]$$"
      ],
      "text/plain": [
       "⎡65 ⎤\n",
       "⎢   ⎥\n",
       "⎢179⎥\n",
       "⎢   ⎥\n",
       "⎣69 ⎦"
      ]
     },
     "execution_count": 8,
     "metadata": {},
     "output_type": "execute_result"
    }
   ],
   "source": [
    "v = Matrix([4, 53])\n",
    "A = Matrix([[3, 1], [5, 3], [4, 1]])\n",
    "A*v"
   ]
  },
  {
   "cell_type": "markdown",
   "metadata": {},
   "source": [
    "Below I will begin testing the rectangular cipher and middle nonlinear function for homomorphic properties"
   ]
  },
  {
   "cell_type": "code",
   "execution_count": 7,
   "metadata": {},
   "outputs": [
    {
     "ename": "SyntaxError",
     "evalue": "invalid syntax (<ipython-input-7-2fa9841dffe2>, line 5)",
     "output_type": "error",
     "traceback": [
      "\u001b[1;36m  File \u001b[1;32m\"<ipython-input-7-2fa9841dffe2>\"\u001b[1;36m, line \u001b[1;32m5\u001b[0m\n\u001b[1;33m    def encrypt(message, key1, key2):\u001b[0m\n\u001b[1;37m      ^\u001b[0m\n\u001b[1;31mSyntaxError\u001b[0m\u001b[1;31m:\u001b[0m invalid syntax\n"
     ]
    }
   ],
   "source": [
    "message = np.array([3, 4, 1])\n",
    "key1 = np.random.randint(0, 20, (len(message), 6))\n",
    "key2 = np.random.randint(0, 20, (key1.shape[1], 8)\n",
    "\n",
    "def encrypt(message, key1, key2):\n",
    "    ciphertext = np.matmul(message, key1)\n",
    "    ciphertext = pow(ciphertext, 2) + 6\n",
    "    ciphertext = np.matmul(ciphertext, key2)\n",
    "    return ciphertext\n",
    "                         \n",
    "def decrypt(ciphertext, key1, key2):\n",
    "    key2inv = np.matmul(np.linalg.inv(np.matmul(key2.T, key2)), key2.T)\n",
    "    key1inv = np.matmul(np.linalg.inv(np.matmul(key1.T, key1)), key1.T)\n",
    "    plaintext = np.matmul(ciphertext, key2inv)\n",
    "    plaintext = pow(plaintext, 0.5) - 6\n",
    "    plaintext = np.matmul(plaintext, key1inv)\n",
    "    return plaintext\n",
    "\n",
    "ciphertext = encrypt(message, key1, key2)\n",
    "print(ciphertext)\n",
    "ciphertext *= 2\n",
    "plaintext = decrypt(ciphertext, key1, key2)"
   ]
  },
  {
   "cell_type": "code",
   "execution_count": 9,
   "metadata": {},
   "outputs": [
    {
     "ename": "SyntaxError",
     "evalue": "invalid syntax (<ipython-input-9-0c74cc8ee350>, line 5)",
     "output_type": "error",
     "traceback": [
      "\u001b[1;36m  File \u001b[1;32m\"<ipython-input-9-0c74cc8ee350>\"\u001b[1;36m, line \u001b[1;32m5\u001b[0m\n\u001b[1;33m    ciphertext = np.matmul(message, key1)\u001b[0m\n\u001b[1;37m             ^\u001b[0m\n\u001b[1;31mSyntaxError\u001b[0m\u001b[1;31m:\u001b[0m invalid syntax\n"
     ]
    }
   ],
   "source": [
    "message = np.array([3, 4, 1])\n",
    "key1 = np.random.randint(0, 20, (len(message), 6))\n",
    "key2 = np.random.randint(0, 20, (key1.shape[1], 8)\n",
    "\n",
    "ciphertext = np.matmul(message, key1)\n",
    "ciphertext = pow(ciphertext, 2) + 6\n",
    "ciphertext = np.matmul(ciphertext, key2)\n",
    "                         \n",
    "key2inv = np.matmul(np.linalg.inv(np.matmul(key2.T, key2)), key2.T)\n",
    "key1inv = np.matmul(np.linalg.inv(np.matmul(key1.T, key1)), key1.T)\n",
    "plaintext = np.matmul(ciphertext, key2inv)\n",
    "plaintext = pow(plaintext, 0.5) - 6\n",
    "plaintext = np.matmul(plaintext, key1inv)        "
   ]
  }
 ],
 "metadata": {
  "kernelspec": {
   "display_name": "Python [conda root]",
   "language": "python",
   "name": "conda-root-py"
  },
  "language_info": {
   "codemirror_mode": {
    "name": "ipython",
    "version": 3
   },
   "file_extension": ".py",
   "mimetype": "text/x-python",
   "name": "python",
   "nbconvert_exporter": "python",
   "pygments_lexer": "ipython3",
   "version": "3.6.3"
  }
 },
 "nbformat": 4,
 "nbformat_minor": 2
}
