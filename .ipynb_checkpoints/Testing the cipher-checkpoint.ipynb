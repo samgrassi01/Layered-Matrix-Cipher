{
 "cells": [
  {
   "cell_type": "markdown",
   "metadata": {},
   "source": [
    "Note how numpy matrices are written by columns, sympy by rows"
   ]
  },
  {
   "cell_type": "code",
   "execution_count": 1,
   "metadata": {},
   "outputs": [],
   "source": [
    "import numpy as np\n",
    "\n",
    "from sympy import *\n",
    "init_printing(use_unicode=True)"
   ]
  },
  {
   "cell_type": "code",
   "execution_count": 2,
   "metadata": {},
   "outputs": [
    {
     "data": {
      "text/plain": [
       "array([ 65, 179,  69])"
      ]
     },
     "execution_count": 2,
     "metadata": {},
     "output_type": "execute_result"
    }
   ],
   "source": [
    "v = np.array([4, 53])\n",
    "A = np.array([[3, 5, 4], [1, 3, 1]])\n",
    "np.matmul(v, A)"
   ]
  },
  {
   "cell_type": "code",
   "execution_count": 3,
   "metadata": {
    "scrolled": true
   },
   "outputs": [
    {
     "data": {
      "text/latex": [
       "$$\\left[\\begin{matrix}65\\\\179\\\\69\\end{matrix}\\right]$$"
      ],
      "text/plain": [
       "⎡65 ⎤\n",
       "⎢   ⎥\n",
       "⎢179⎥\n",
       "⎢   ⎥\n",
       "⎣69 ⎦"
      ]
     },
     "execution_count": 3,
     "metadata": {},
     "output_type": "execute_result"
    }
   ],
   "source": [
    "v = Matrix([4, 53])\n",
    "A = Matrix([[3, 1], [5, 3], [4, 1]])\n",
    "A*v"
   ]
  },
  {
   "cell_type": "markdown",
   "metadata": {},
   "source": [
    "Below I will begin testing the rectangular cipher and middle nonlinear function for homomorphic properties.  I immidiately show that the homomorphic properties and cipher works without the middle functions"
   ]
  },
  {
   "cell_type": "code",
   "execution_count": 51,
   "metadata": {},
   "outputs": [
    {
     "data": {
      "text/plain": [
       "array([83, 57, 66, 95, 74, 91])"
      ]
     },
     "execution_count": 51,
     "metadata": {},
     "output_type": "execute_result"
    }
   ],
   "source": [
    "message = np.array([3, 4, 1])\n",
    "key1 = np.random.randint(0, 20, (len(message), 6))\n",
    "key2 = np.random.randint(0, 20, (key1.shape[1], 8))\n",
    "key2inv = np.matmul(key2.T, np.linalg.inv(np.matmul(key2, key2.T)))\n",
    "key1inv = np.matmul(key1.T, np.linalg.inv(np.matmul(key1, key1.T)))\n",
    "\n",
    "ciphertext = np.matmul(message, key1)\n",
    "ciphertext"
   ]
  },
  {
   "cell_type": "code",
   "execution_count": 52,
   "metadata": {},
   "outputs": [
    {
     "data": {
      "text/plain": [
       "array([4472, 3777, 3575, 6058, 2940, 4274, 4064, 3562])"
      ]
     },
     "execution_count": 52,
     "metadata": {},
     "output_type": "execute_result"
    }
   ],
   "source": [
    "ciphertext = np.matmul(ciphertext, key2)\n",
    "ciphertext"
   ]
  },
  {
   "cell_type": "code",
   "execution_count": 53,
   "metadata": {},
   "outputs": [
    {
     "data": {
      "text/plain": [
       "array([ 8944,  7554,  7150, 12116,  5880,  8548,  8128,  7124])"
      ]
     },
     "execution_count": 53,
     "metadata": {},
     "output_type": "execute_result"
    }
   ],
   "source": [
    "ciphertext *= 2\n",
    "ciphertext"
   ]
  },
  {
   "cell_type": "code",
   "execution_count": 54,
   "metadata": {},
   "outputs": [
    {
     "data": {
      "text/plain": [
       "array([ 166.,  114.,  132.,  190.,  148.,  182.])"
      ]
     },
     "execution_count": 54,
     "metadata": {},
     "output_type": "execute_result"
    }
   ],
   "source": [
    "plaintext = np.matmul(ciphertext, key2inv)\n",
    "plaintext"
   ]
  },
  {
   "cell_type": "code",
   "execution_count": 55,
   "metadata": {
    "scrolled": true
   },
   "outputs": [
    {
     "data": {
      "text/plain": [
       "array([ 6.,  8.,  2.])"
      ]
     },
     "execution_count": 55,
     "metadata": {},
     "output_type": "execute_result"
    }
   ],
   "source": [
    "plaintext = np.matmul(plaintext, key1inv)\n",
    "plaintext"
   ]
  },
  {
   "cell_type": "markdown",
   "metadata": {},
   "source": [
    "Now I try to put everything together and with the middle functions"
   ]
  },
  {
   "cell_type": "code",
   "execution_count": 58,
   "metadata": {},
   "outputs": [
    {
     "name": "stdout",
     "output_type": "stream",
     "text": [
      "[14726 19600 20800 16818 16764 25474 20756 19300]\n"
     ]
    },
    {
     "ename": "ValueError",
     "evalue": "shapes (8,) and (6,3) not aligned: 8 (dim 0) != 6 (dim 0)",
     "output_type": "error",
     "traceback": [
      "\u001b[1;31m---------------------------------------------------------------------------\u001b[0m",
      "\u001b[1;31mValueError\u001b[0m                                Traceback (most recent call last)",
      "\u001b[1;32m<ipython-input-58-6ee8b2ff2ba3>\u001b[0m in \u001b[0;36m<module>\u001b[1;34m()\u001b[0m\n\u001b[0;32m     20\u001b[0m \u001b[0mprint\u001b[0m\u001b[1;33m(\u001b[0m\u001b[0mciphertext\u001b[0m\u001b[1;33m)\u001b[0m\u001b[1;33m\u001b[0m\u001b[0m\n\u001b[0;32m     21\u001b[0m \u001b[0mciphertext\u001b[0m \u001b[1;33m*=\u001b[0m \u001b[1;36m2\u001b[0m\u001b[1;33m\u001b[0m\u001b[0m\n\u001b[1;32m---> 22\u001b[1;33m \u001b[0mplaintext\u001b[0m \u001b[1;33m=\u001b[0m \u001b[0mdecrypt\u001b[0m\u001b[1;33m(\u001b[0m\u001b[0mciphertext\u001b[0m\u001b[1;33m,\u001b[0m \u001b[0mkey1\u001b[0m\u001b[1;33m,\u001b[0m \u001b[0mkey2\u001b[0m\u001b[1;33m)\u001b[0m\u001b[1;33m\u001b[0m\u001b[0m\n\u001b[0m",
      "\u001b[1;32m<ipython-input-58-6ee8b2ff2ba3>\u001b[0m in \u001b[0;36mdecrypt\u001b[1;34m(ciphertext, key1, key2)\u001b[0m\n\u001b[0;32m     14\u001b[0m     \u001b[0mplaintext\u001b[0m \u001b[1;33m=\u001b[0m \u001b[0mnp\u001b[0m\u001b[1;33m.\u001b[0m\u001b[0mmatmul\u001b[0m\u001b[1;33m(\u001b[0m\u001b[0mciphertext\u001b[0m\u001b[1;33m,\u001b[0m \u001b[0mkey2inv\u001b[0m\u001b[1;33m)\u001b[0m\u001b[1;33m\u001b[0m\u001b[0m\n\u001b[0;32m     15\u001b[0m     \u001b[0mplaintext\u001b[0m \u001b[1;33m=\u001b[0m \u001b[1;33m(\u001b[0m\u001b[0mciphertext\u001b[0m \u001b[1;33m*\u001b[0m \u001b[1;36m.25\u001b[0m\u001b[1;33m)\u001b[0m \u001b[1;33m-\u001b[0m \u001b[1;36m6\u001b[0m\u001b[1;33m\u001b[0m\u001b[0m\n\u001b[1;32m---> 16\u001b[1;33m     \u001b[0mplaintext\u001b[0m \u001b[1;33m=\u001b[0m \u001b[0mnp\u001b[0m\u001b[1;33m.\u001b[0m\u001b[0mmatmul\u001b[0m\u001b[1;33m(\u001b[0m\u001b[0mplaintext\u001b[0m\u001b[1;33m,\u001b[0m \u001b[0mkey1inv\u001b[0m\u001b[1;33m)\u001b[0m\u001b[1;33m\u001b[0m\u001b[0m\n\u001b[0m\u001b[0;32m     17\u001b[0m     \u001b[1;32mreturn\u001b[0m \u001b[0mplaintext\u001b[0m\u001b[1;33m\u001b[0m\u001b[0m\n\u001b[0;32m     18\u001b[0m \u001b[1;33m\u001b[0m\u001b[0m\n",
      "\u001b[1;31mValueError\u001b[0m: shapes (8,) and (6,3) not aligned: 8 (dim 0) != 6 (dim 0)"
     ]
    }
   ],
   "source": [
    "message = np.array([3, 4, 1])\n",
    "key1 = np.random.randint(0, 20, (len(message), 6))\n",
    "key2 = np.random.randint(0, 20, (key1.shape[1], 8))\n",
    "\n",
    "def encrypt(message, key1, key2):\n",
    "    ciphertext = np.matmul(message, key1)\n",
    "    ciphertext = (ciphertext * 4) + 6\n",
    "    ciphertext = np.matmul(ciphertext, key2)\n",
    "    return ciphertext\n",
    "                         \n",
    "def decrypt(ciphertext, key1, key2):\n",
    "    key2inv = np.matmul(key2.T, np.linalg.inv(np.matmul(key2, key2.T)))\n",
    "    key1inv = np.matmul(key1.T, np.linalg.inv(np.matmul(key1, key1.T)))\n",
    "    plaintext = np.matmul(ciphertext, key2inv)\n",
    "    plaintext = (ciphertext * .25) - 6\n",
    "    plaintext = np.matmul(plaintext, key1inv)\n",
    "    return plaintext\n",
    "\n",
    "ciphertext = encrypt(message, key1, key2)\n",
    "print(ciphertext)\n",
    "ciphertext *= 2\n",
    "plaintext = decrypt(ciphertext, key1, key2)"
   ]
  }
 ],
 "metadata": {
  "kernelspec": {
   "display_name": "Python [conda root]",
   "language": "python",
   "name": "conda-root-py"
  },
  "language_info": {
   "codemirror_mode": {
    "name": "ipython",
    "version": 3
   },
   "file_extension": ".py",
   "mimetype": "text/x-python",
   "name": "python",
   "nbconvert_exporter": "python",
   "pygments_lexer": "ipython3",
   "version": "3.6.3"
  }
 },
 "nbformat": 4,
 "nbformat_minor": 2
}
