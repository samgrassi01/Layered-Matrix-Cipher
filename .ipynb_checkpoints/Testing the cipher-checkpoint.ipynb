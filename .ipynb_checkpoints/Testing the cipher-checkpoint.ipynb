{
 "cells": [
  {
   "cell_type": "markdown",
   "metadata": {},
   "source": [
    "Note how numpy matrices are written by columns, sympy by rows.  This is Fully Homomorphic as it is in a ring."
   ]
  },
  {
   "cell_type": "code",
   "execution_count": 1,
   "metadata": {},
   "outputs": [],
   "source": [
    "import numpy as np\n",
    "\n",
    "from sympy import *\n",
    "init_printing(use_unicode=True)"
   ]
  },
  {
   "cell_type": "code",
   "execution_count": 2,
   "metadata": {},
   "outputs": [
    {
     "data": {
      "text/plain": [
       "array([ 65, 179,  69])"
      ]
     },
     "execution_count": 2,
     "metadata": {},
     "output_type": "execute_result"
    }
   ],
   "source": [
    "v = np.array([4, 53])\n",
    "A = np.array([[3, 5, 4], [1, 3, 1]])\n",
    "np.matmul(v, A)"
   ]
  },
  {
   "cell_type": "code",
   "execution_count": 3,
   "metadata": {
    "scrolled": true
   },
   "outputs": [
    {
     "data": {
      "text/latex": [
       "$$\\left[\\begin{matrix}65\\\\179\\\\69\\end{matrix}\\right]$$"
      ],
      "text/plain": [
       "⎡65 ⎤\n",
       "⎢   ⎥\n",
       "⎢179⎥\n",
       "⎢   ⎥\n",
       "⎣69 ⎦"
      ]
     },
     "execution_count": 3,
     "metadata": {},
     "output_type": "execute_result"
    }
   ],
   "source": [
    "v = Matrix([4, 53])\n",
    "A = Matrix([[3, 1], [5, 3], [4, 1]])\n",
    "A*v"
   ]
  },
  {
   "cell_type": "markdown",
   "metadata": {},
   "source": [
    "Below I will begin testing the rectangular cipher and middle nonlinear function for homomorphic properties.  I immidiately show that the homomorphic properties and cipher works without the middle functions"
   ]
  },
  {
   "cell_type": "code",
   "execution_count": 51,
   "metadata": {},
   "outputs": [
    {
     "data": {
      "text/plain": [
       "array([83, 57, 66, 95, 74, 91])"
      ]
     },
     "execution_count": 51,
     "metadata": {},
     "output_type": "execute_result"
    }
   ],
   "source": [
    "message = np.array([3, 4, 1])\n",
    "key1 = np.random.randint(0, 20, (len(message), 6))\n",
    "key2 = np.random.randint(0, 20, (key1.shape[1], 8))\n",
    "key2inv = np.matmul(key2.T, np.linalg.inv(np.matmul(key2, key2.T)))\n",
    "key1inv = np.matmul(key1.T, np.linalg.inv(np.matmul(key1, key1.T)))\n",
    "\n",
    "ciphertext = np.matmul(message, key1)\n",
    "ciphertext"
   ]
  },
  {
   "cell_type": "code",
   "execution_count": 52,
   "metadata": {},
   "outputs": [
    {
     "data": {
      "text/plain": [
       "array([4472, 3777, 3575, 6058, 2940, 4274, 4064, 3562])"
      ]
     },
     "execution_count": 52,
     "metadata": {},
     "output_type": "execute_result"
    }
   ],
   "source": [
    "ciphertext = np.matmul(ciphertext, key2)\n",
    "ciphertext"
   ]
  },
  {
   "cell_type": "code",
   "execution_count": 53,
   "metadata": {},
   "outputs": [
    {
     "data": {
      "text/plain": [
       "array([ 8944,  7554,  7150, 12116,  5880,  8548,  8128,  7124])"
      ]
     },
     "execution_count": 53,
     "metadata": {},
     "output_type": "execute_result"
    }
   ],
   "source": [
    "ciphertext *= 2\n",
    "ciphertext"
   ]
  },
  {
   "cell_type": "code",
   "execution_count": 54,
   "metadata": {},
   "outputs": [
    {
     "data": {
      "text/plain": [
       "array([ 166.,  114.,  132.,  190.,  148.,  182.])"
      ]
     },
     "execution_count": 54,
     "metadata": {},
     "output_type": "execute_result"
    }
   ],
   "source": [
    "plaintext = np.matmul(ciphertext, key2inv)\n",
    "plaintext"
   ]
  },
  {
   "cell_type": "code",
   "execution_count": 55,
   "metadata": {
    "scrolled": true
   },
   "outputs": [
    {
     "data": {
      "text/plain": [
       "array([ 6.,  8.,  2.])"
      ]
     },
     "execution_count": 55,
     "metadata": {},
     "output_type": "execute_result"
    }
   ],
   "source": [
    "plaintext = np.matmul(plaintext, key1inv)\n",
    "plaintext"
   ]
  },
  {
   "cell_type": "markdown",
   "metadata": {},
   "source": [
    "Now I try to put everything together and with the middle functions"
   ]
  },
  {
   "cell_type": "code",
   "execution_count": 58,
   "metadata": {},
   "outputs": [
    {
     "name": "stdout",
     "output_type": "stream",
     "text": [
      "[14726 19600 20800 16818 16764 25474 20756 19300]\n"
     ]
    },
    {
     "ename": "ValueError",
     "evalue": "shapes (8,) and (6,3) not aligned: 8 (dim 0) != 6 (dim 0)",
     "output_type": "error",
     "traceback": [
      "\u001b[1;31m---------------------------------------------------------------------------\u001b[0m",
      "\u001b[1;31mValueError\u001b[0m                                Traceback (most recent call last)",
      "\u001b[1;32m<ipython-input-58-6ee8b2ff2ba3>\u001b[0m in \u001b[0;36m<module>\u001b[1;34m()\u001b[0m\n\u001b[0;32m     20\u001b[0m \u001b[0mprint\u001b[0m\u001b[1;33m(\u001b[0m\u001b[0mciphertext\u001b[0m\u001b[1;33m)\u001b[0m\u001b[1;33m\u001b[0m\u001b[0m\n\u001b[0;32m     21\u001b[0m \u001b[0mciphertext\u001b[0m \u001b[1;33m*=\u001b[0m \u001b[1;36m2\u001b[0m\u001b[1;33m\u001b[0m\u001b[0m\n\u001b[1;32m---> 22\u001b[1;33m \u001b[0mplaintext\u001b[0m \u001b[1;33m=\u001b[0m \u001b[0mdecrypt\u001b[0m\u001b[1;33m(\u001b[0m\u001b[0mciphertext\u001b[0m\u001b[1;33m,\u001b[0m \u001b[0mkey1\u001b[0m\u001b[1;33m,\u001b[0m \u001b[0mkey2\u001b[0m\u001b[1;33m)\u001b[0m\u001b[1;33m\u001b[0m\u001b[0m\n\u001b[0m",
      "\u001b[1;32m<ipython-input-58-6ee8b2ff2ba3>\u001b[0m in \u001b[0;36mdecrypt\u001b[1;34m(ciphertext, key1, key2)\u001b[0m\n\u001b[0;32m     14\u001b[0m     \u001b[0mplaintext\u001b[0m \u001b[1;33m=\u001b[0m \u001b[0mnp\u001b[0m\u001b[1;33m.\u001b[0m\u001b[0mmatmul\u001b[0m\u001b[1;33m(\u001b[0m\u001b[0mciphertext\u001b[0m\u001b[1;33m,\u001b[0m \u001b[0mkey2inv\u001b[0m\u001b[1;33m)\u001b[0m\u001b[1;33m\u001b[0m\u001b[0m\n\u001b[0;32m     15\u001b[0m     \u001b[0mplaintext\u001b[0m \u001b[1;33m=\u001b[0m \u001b[1;33m(\u001b[0m\u001b[0mciphertext\u001b[0m \u001b[1;33m*\u001b[0m \u001b[1;36m.25\u001b[0m\u001b[1;33m)\u001b[0m \u001b[1;33m-\u001b[0m \u001b[1;36m6\u001b[0m\u001b[1;33m\u001b[0m\u001b[0m\n\u001b[1;32m---> 16\u001b[1;33m     \u001b[0mplaintext\u001b[0m \u001b[1;33m=\u001b[0m \u001b[0mnp\u001b[0m\u001b[1;33m.\u001b[0m\u001b[0mmatmul\u001b[0m\u001b[1;33m(\u001b[0m\u001b[0mplaintext\u001b[0m\u001b[1;33m,\u001b[0m \u001b[0mkey1inv\u001b[0m\u001b[1;33m)\u001b[0m\u001b[1;33m\u001b[0m\u001b[0m\n\u001b[0m\u001b[0;32m     17\u001b[0m     \u001b[1;32mreturn\u001b[0m \u001b[0mplaintext\u001b[0m\u001b[1;33m\u001b[0m\u001b[0m\n\u001b[0;32m     18\u001b[0m \u001b[1;33m\u001b[0m\u001b[0m\n",
      "\u001b[1;31mValueError\u001b[0m: shapes (8,) and (6,3) not aligned: 8 (dim 0) != 6 (dim 0)"
     ]
    }
   ],
   "source": [
    "message = np.array([3, 4, 1])\n",
    "key1 = np.random.randint(0, 20, (len(message), 6))\n",
    "key2 = np.random.randint(0, 20, (key1.shape[1], 8))\n",
    "\n",
    "def encrypt(message, key1, key2):\n",
    "    ciphertext = np.matmul(message, key1)\n",
    "    ciphertext = (ciphertext * 4) + 6\n",
    "    ciphertext = np.matmul(ciphertext, key2)\n",
    "    return ciphertext\n",
    "                         \n",
    "def decrypt(ciphertext, key1, key2):\n",
    "    key2inv = np.matmul(key2.T, np.linalg.inv(np.matmul(key2, key2.T)))\n",
    "    key1inv = np.matmul(key1.T, np.linalg.inv(np.matmul(key1, key1.T)))\n",
    "    plaintext = np.matmul(ciphertext, key2inv)\n",
    "    plaintext = (ciphertext * .25) - 6\n",
    "    plaintext = np.matmul(plaintext, key1inv)\n",
    "    return plaintext\n",
    "\n",
    "ciphertext = encrypt(message, key1, key2)\n",
    "print(ciphertext)\n",
    "ciphertext *= 2\n",
    "plaintext = decrypt(ciphertext, key1, key2)"
   ]
  },
  {
   "cell_type": "markdown",
   "metadata": {},
   "source": [
    "# Nonlinear Transformation Testing\n",
    "I will see how you can represent y=mx+b stylce function with a diagonal matrix, and from there will build out the function that does everything.  This should work given there won't be any square or square roots.  "
   ]
  },
  {
   "cell_type": "code",
   "execution_count": 6,
   "metadata": {},
   "outputs": [
    {
     "data": {
      "text/plain": [
       "array([18, 27,  9])"
      ]
     },
     "execution_count": 6,
     "metadata": {},
     "output_type": "execute_result"
    }
   ],
   "source": [
    "import numpy as np\n",
    "vec = np.array([4, 7, 1])\n",
    "(3*vec) + 6"
   ]
  },
  {
   "cell_type": "code",
   "execution_count": 5,
   "metadata": {},
   "outputs": [
    {
     "data": {
      "text/plain": [
       "array([6, 6, 6])"
      ]
     },
     "execution_count": 5,
     "metadata": {},
     "output_type": "execute_result"
    }
   ],
   "source": [
    "# zero vector test\n",
    "zero = np.array([0, 0, 0])\n",
    "(3*zero) + 6"
   ]
  },
  {
   "cell_type": "markdown",
   "metadata": {},
   "source": [
    "As you can see, the above function is not a linear transformation as T(0) does not equal 0.\n",
    "\n",
    "Below I will try to build out the system again with this nonlinear transformation and see if it works"
   ]
  },
  {
   "cell_type": "code",
   "execution_count": 25,
   "metadata": {},
   "outputs": [
    {
     "data": {
      "text/plain": [
       "array([[22, 19, 16],\n",
       "       [21,  3, 25],\n",
       "       [22, 17,  8],\n",
       "       [24, 27, 22],\n",
       "       [ 1, 29, 14],\n",
       "       [ 4,  7,  6],\n",
       "       [12,  3, 19],\n",
       "       [19, 22, 24]])"
      ]
     },
     "execution_count": 25,
     "metadata": {},
     "output_type": "execute_result"
    }
   ],
   "source": [
    "message = np.array([9, 4, 2])\n",
    "key1 = np.random.randint(1, 30, ((len(message) + np.random.randint(2, 6)), len(message)))\n",
    "key1"
   ]
  },
  {
   "cell_type": "code",
   "execution_count": 28,
   "metadata": {},
   "outputs": [
    {
     "data": {
      "text/plain": [
       "array([[  1.00000000e+00,   5.55111512e-17,   1.38777878e-16],\n",
       "       [ -2.63677968e-16,   1.00000000e+00,  -4.16333634e-16],\n",
       "       [  4.44089210e-16,   1.38777878e-16,   1.00000000e+00]])"
      ]
     },
     "execution_count": 28,
     "metadata": {},
     "output_type": "execute_result"
    }
   ],
   "source": [
    "# know m is always > n\n",
    "key1inv = np.matmul((np.linalg.inv(np.matmul(key1.T, key1))), key1.T)\n",
    "np.matmul(key1inv, key1)"
   ]
  },
  {
   "cell_type": "code",
   "execution_count": 29,
   "metadata": {},
   "outputs": [
    {
     "data": {
      "text/plain": [
       "8"
      ]
     },
     "execution_count": 29,
     "metadata": {},
     "output_type": "execute_result"
    }
   ],
   "source": [
    "key1.shape[0]"
   ]
  },
  {
   "cell_type": "code",
   "execution_count": 32,
   "metadata": {},
   "outputs": [
    {
     "data": {
      "text/plain": [
       "array([[24, 21, 14, 10, 11,  5,  4, 23],\n",
       "       [19,  3, 16, 19, 13,  2, 17,  2],\n",
       "       [16, 26,  7, 25,  9, 18, 19, 27],\n",
       "       [18, 24, 27, 17, 16,  9, 12,  7],\n",
       "       [ 2,  4,  6, 10,  5, 24,  8, 17],\n",
       "       [ 9, 28, 17,  8, 27,  2, 29, 23],\n",
       "       [ 3, 18, 14, 10, 19, 28, 19, 29],\n",
       "       [ 8, 23, 23, 27, 24, 12, 18, 12],\n",
       "       [ 8, 28, 15, 16, 12, 13,  9, 18],\n",
       "       [19,  6,  3, 18, 28, 10,  5,  8],\n",
       "       [25,  2, 29, 13,  7, 11, 29, 24]])"
      ]
     },
     "execution_count": 32,
     "metadata": {},
     "output_type": "execute_result"
    }
   ],
   "source": [
    "key2 = np.random.randint(1, 30, ((np.random.randint(1, 4) + key1.shape[0]), key1.shape[0]))\n",
    "# check\n",
    "key2"
   ]
  },
  {
   "cell_type": "code",
   "execution_count": 36,
   "metadata": {},
   "outputs": [
    {
     "data": {
      "text/plain": [
       "array([[  1.00000000e+00,   1.67088565e-14,   1.53488333e-14,\n",
       "          1.46826995e-14,   1.41830991e-14,   1.29618538e-14,\n",
       "          1.31283873e-14,   2.00950367e-14],\n",
       "       [  0.00000000e+00,   1.00000000e+00,   1.11022302e-16,\n",
       "         -3.33066907e-16,  -3.33066907e-16,  -9.71445147e-16,\n",
       "         -2.44249065e-15,   3.33066907e-16],\n",
       "       [ -3.33066907e-16,   0.00000000e+00,   1.00000000e+00,\n",
       "         -6.66133815e-16,  -1.11022302e-15,   3.88578059e-16,\n",
       "          5.55111512e-16,  -1.33226763e-15],\n",
       "       [ -8.32667268e-16,   7.77156117e-16,  -2.22044605e-16,\n",
       "          1.00000000e+00,  -5.55111512e-16,  -1.27675648e-15,\n",
       "          1.99840144e-15,  -2.55351296e-15],\n",
       "       [  2.49800181e-16,  -4.85722573e-17,   0.00000000e+00,\n",
       "          2.08166817e-16,   1.00000000e+00,   2.08166817e-16,\n",
       "          4.44089210e-16,   8.32667268e-17],\n",
       "       [  5.44009282e-15,   7.21644966e-15,   6.88338275e-15,\n",
       "          6.32827124e-15,   6.21724894e-15,   1.00000000e+00,\n",
       "          3.55271368e-15,   1.00475184e-14],\n",
       "       [  3.05311332e-16,   1.27675648e-15,  -3.33066907e-16,\n",
       "          4.44089210e-16,   1.83186799e-15,   1.97064587e-15,\n",
       "          1.00000000e+00,   3.94129174e-15],\n",
       "       [ -4.21884749e-15,  -5.88418203e-15,  -5.99520433e-15,\n",
       "         -5.21804822e-15,  -3.33066907e-15,  -5.38458167e-15,\n",
       "         -2.88657986e-15,   1.00000000e+00]])"
      ]
     },
     "execution_count": 36,
     "metadata": {},
     "output_type": "execute_result"
    }
   ],
   "source": [
    "# know always m>n\n",
    "key2inv = np.matmul((np.linalg.inv(np.matmul(key2.T, key2))), key2.T)\n",
    "np.matmul(key2inv, key2)"
   ]
  },
  {
   "cell_type": "code",
   "execution_count": 65,
   "metadata": {},
   "outputs": [
    {
     "data": {
      "text/plain": [
       "array([14412288, 11296134, 17600118, 15652740,  7717464, 16070382,\n",
       "       14417880, 17179158, 14109246, 11089458, 16802040])"
      ]
     },
     "execution_count": 65,
     "metadata": {},
     "output_type": "execute_result"
    }
   ],
   "source": [
    "# check!\n",
    "def encrypt(message, key1, key2):\n",
    "    # scale up plaintext by a whole bunch to avoid noise damage\n",
    "    message *= 40\n",
    "    ciphertext = np.matmul(key1, message)\n",
    "    ciphertext = (2 * ciphertext) + 19\n",
    "    ciphertext = np.matmul(key2, ciphertext)\n",
    "    return ciphertext\n",
    "\n",
    "ciphertext = encrypt(message, key1, key2)\n",
    "ciphertext *= 6\n",
    "ciphertext"
   ]
  },
  {
   "cell_type": "code",
   "execution_count": 66,
   "metadata": {},
   "outputs": [],
   "source": [
    "def myround(a, decimals=0):\n",
    "     return np.around(a-10**(-(decimals+5)), decimals=decimals)\n",
    "    \n",
    "def decrypt(ciphertext, key1, key2):\n",
    "    key1inv = np.matmul((np.linalg.inv(np.matmul(key1.T, key1))), key1.T)\n",
    "    key2inv = np.matmul((np.linalg.inv(np.matmul(key2.T, key2))), key2.T)\n",
    "    \n",
    "    plaintext = np.matmul(ciphertext, key2inv.T)\n",
    "    plaintext = (0.5 * plaintext) - 19\n",
    "    plaintext = np.matmul(plaintext, key1inv.T)\n",
    "    plaintext *= (1/40)\n",
    "    return plaintext"
   ]
  },
  {
   "cell_type": "code",
   "execution_count": 69,
   "metadata": {},
   "outputs": [
    {
     "name": "stdout",
     "output_type": "stream",
     "text": [
      "[ 146994.00000001  120594.          135474.          176754.           73554.\n",
      "   36594.00000001   75954.          147473.99999999]\n",
      "[ 73478.00000001  60278.          67718.          88358.          36758.\n",
      "  18278.          37958.          73718.        ]\n"
     ]
    },
    {
     "data": {
      "text/plain": [
       "array([ 54.,  24.,  12.])"
      ]
     },
     "execution_count": 69,
     "metadata": {},
     "output_type": "execute_result"
    }
   ],
   "source": [
    "plaintext = decrypt(ciphertext, key1, key2)\n",
    "plaintext = myround(plaintext)\n",
    "plaintext"
   ]
  },
  {
   "cell_type": "markdown",
   "metadata": {},
   "source": [
    "### It works!!!\n",
    "As you can see, the original message is 9, 4, 2, and it works with homomorphic stuff! sweet! the ciphertext is also much longer and of a different size.  This is awesome!\n",
    "\n",
    "**NOTE** how need to scale message when pass through encrypt to avoid noise damage!!!"
   ]
  },
  {
   "cell_type": "code",
   "execution_count": null,
   "metadata": {},
   "outputs": [],
   "source": []
  },
  {
   "cell_type": "code",
   "execution_count": null,
   "metadata": {},
   "outputs": [],
   "source": []
  },
  {
   "cell_type": "code",
   "execution_count": null,
   "metadata": {},
   "outputs": [],
   "source": []
  },
  {
   "cell_type": "code",
   "execution_count": null,
   "metadata": {},
   "outputs": [],
   "source": []
  },
  {
   "cell_type": "code",
   "execution_count": null,
   "metadata": {},
   "outputs": [],
   "source": []
  },
  {
   "cell_type": "code",
   "execution_count": null,
   "metadata": {},
   "outputs": [],
   "source": []
  },
  {
   "cell_type": "code",
   "execution_count": null,
   "metadata": {},
   "outputs": [],
   "source": []
  },
  {
   "cell_type": "code",
   "execution_count": null,
   "metadata": {},
   "outputs": [],
   "source": []
  },
  {
   "cell_type": "code",
   "execution_count": null,
   "metadata": {},
   "outputs": [],
   "source": []
  }
 ],
 "metadata": {
  "kernelspec": {
   "display_name": "Python [conda root]",
   "language": "python",
   "name": "conda-root-py"
  },
  "language_info": {
   "codemirror_mode": {
    "name": "ipython",
    "version": 3
   },
   "file_extension": ".py",
   "mimetype": "text/x-python",
   "name": "python",
   "nbconvert_exporter": "python",
   "pygments_lexer": "ipython3",
   "version": "3.6.3"
  }
 },
 "nbformat": 4,
 "nbformat_minor": 2
}
